{
 "cells": [
  {
   "cell_type": "markdown",
   "metadata": {},
   "source": [
    "# Card Probabilities\n",
    "\n",
    "A notebook to look at the probabilities of certain phemomena when working with a fairly-shuffled deck of cards.\n",
    "\n",
    "Prerequisites below - imports, and creation of a deck of cards (plus suits and cards to allow creation of random cards and hands later on)"
   ]
  },
  {
   "cell_type": "code",
   "execution_count": 70,
   "metadata": {},
   "outputs": [],
   "source": [
    "from random import randint, choice\n",
    "import matplotlib.pyplot as plt\n",
    "from IPython.display import HTML, display\n",
    "import tabulate\n",
    "import numpy as np\n",
    "import random\n",
    "\n",
    "suits = ['D', 'H', 'C', 'S']\n",
    "cards = ['A', '2', '3', '4', '5', '6', '7', '8', '9', '10', 'J', 'Q', 'K']\n",
    "deck = [suit + card for suit in suits for card in cards]"
   ]
  },
  {
   "cell_type": "markdown",
   "metadata": {},
   "source": [
    "### Shuffle\n",
    "\n",
    "Next, a shuffle function.  This function is designed to imitate a riffle shuffle - the card deck is cut (somewhere around the middle), and then interleaved.  Any remaining cards from the bigger side of the cut are stacked on top of the deck.  Usually multiple shuffles would be carried out - particularly from an initially created deck."
   ]
  },
  {
   "cell_type": "code",
   "execution_count": 3,
   "metadata": {},
   "outputs": [],
   "source": [
    "def shuffle(deck, limit=20):\n",
    "    split = randint(limit, len(deck)-limit)\n",
    "    deck_1 = deck[:split]\n",
    "    deck_2 = deck[split:]\n",
    "    new_deck = []\n",
    "    for i in range(min(len(deck_1), len(deck_2))):\n",
    "        new_deck.append(deck_1[i])\n",
    "        new_deck.append(deck_2[i])\n",
    "    if len(deck_1) < len(deck_2):\n",
    "        for i in range(len(deck_1), len(deck_2)):\n",
    "            new_deck.append(deck_2[i])\n",
    "    else:\n",
    "        for i in range(len(deck_2), len(deck_1)):\n",
    "            new_deck.append(deck_1[i])\n",
    "    return new_deck"
   ]
  },
  {
   "cell_type": "markdown",
   "metadata": {},
   "source": [
    "### Guessing at Random\n",
    "First, the probability of guessing a card correctly at random.  Each time a card is drawn, a random guess is made, and compared to the deck; a correct guess is marked as a positive, and the number of correct guesses per hand is stored.  This is run a number of times, set by 'iterations'"
   ]
  },
  {
   "cell_type": "code",
   "execution_count": 30,
   "metadata": {},
   "outputs": [],
   "source": [
    "current_deck = deck\n",
    "results = []\n",
    "iterations = 100000\n",
    "for i in range(iterations):\n",
    "    positives = 0\n",
    "    negatives = 0\n",
    "    current_deck = shuffle(current_deck)\n",
    "    for card in range(len(deck)):\n",
    "        guess = choice(suits) + choice(cards)\n",
    "        if guess == current_deck[card]:\n",
    "            positives += 1\n",
    "        else:\n",
    "            negatives += 1\n",
    "    current_result = positives\n",
    "    results.append(current_result)"
   ]
  },
  {
   "cell_type": "markdown",
   "metadata": {},
   "source": [
    "### Graphing\n",
    "\n",
    "The results generated above are plotted to visualise the distribution of probabilities of number of cards guessed correctly."
   ]
  },
  {
   "cell_type": "code",
   "execution_count": 31,
   "metadata": {},
   "outputs": [
    {
     "data": {
      "image/png": "[encoded data removed]",
      "text/plain": [
       "<Figure size 432x288 with 1 Axes>"
      ]
     },
     "metadata": {},
     "output_type": "display_data"
    }
   ],
   "source": [
    "plt.hist(results, bins=9, range=(0,9), align='left')\n",
    "plt.xlabel('Correctly guessed cards')\n",
    "plt.ylabel('Number of guesses')\n",
    "plt.title(f'A plot of {iterations} guesses');"
   ]
  },
  {
   "cell_type": "code",
   "execution_count": 56,
   "metadata": {},
   "outputs": [
    {
     "data": {
      "text/html": [
       "<table>\n",
       "<tbody>\n",
       "<tr><td>Cards Drawn</td><td>Number</td><td>Percentage</td></tr>\n",
       "<tr><td>0          </td><td>36405 </td><td>36.41%    </td></tr>\n",
       "<tr><td>1          </td><td>37207 </td><td>37.21%    </td></tr>\n",
       "<tr><td>2          </td><td>18576 </td><td>18.58%    </td></tr>\n",
       "<tr><td>3          </td><td>5995  </td><td>6.00%     </td></tr>\n",
       "<tr><td>4          </td><td>1487  </td><td>1.49%     </td></tr>\n",
       "<tr><td>5          </td><td>281   </td><td>0.28%     </td></tr>\n",
       "<tr><td>6          </td><td>40    </td><td>0.04%     </td></tr>\n",
       "<tr><td>7          </td><td>8     </td><td>0.01%     </td></tr>\n",
       "<tr><td>8          </td><td>1     </td><td>0.00%     </td></tr>\n",
       "</tbody>\n",
       "</table>"
      ],
      "text/plain": [
       "<IPython.core.display.HTML object>"
      ]
     },
     "metadata": {},
     "output_type": "display_data"
    }
   ],
   "source": [
    "results_table=[[i, results.count(i), f'{(100 * (results.count(i)/iterations)):.2f}%'] for i in range(9)]\n",
    "results_table.insert(0,['Cards Drawn','Number','Percentage'])\n",
    "display(HTML(tabulate.tabulate(results_table, tablefmt='html')))"
   ]
  },
  {
   "cell_type": "code",
   "execution_count": 59,
   "metadata": {},
   "outputs": [
    {
     "data": {
      "text/plain": [
       "1.00001"
      ]
     },
     "execution_count": 59,
     "metadata": {},
     "output_type": "execute_result"
    }
   ],
   "source": [
    "np.mean(results)"
   ]
  },
  {
   "cell_type": "markdown",
   "metadata": {},
   "source": [
    "## Card Counting Guesser\n",
    "This method remembers the previous cards which have been seen in the house deck, and guesses accordingly."
   ]
  },
  {
   "cell_type": "code",
   "execution_count": 85,
   "metadata": {},
   "outputs": [],
   "source": [
    "current_deck = deck\n",
    "results = []\n",
    "iterations = 10000\n",
    "for i in range(iterations):\n",
    "    positives = 0\n",
    "    negatives = 0\n",
    "    current_deck = shuffle(current_deck)\n",
    "    guessed_already = []\n",
    "    for card in range(len(deck)):\n",
    "        guess = choice(suits) + choice(cards)\n",
    "        while guess in guessed_already:\n",
    "            guess = choice(suits) + choice(cards)\n",
    "        if guess == current_deck[card]:\n",
    "            positives += 1\n",
    "        else:\n",
    "            negatives += 1\n",
    "        guessed_already.append(current_deck[card])\n",
    "    current_result = positives\n",
    "    results.append(current_result)"
   ]
  },
  {
   "cell_type": "code",
   "execution_count": 86,
   "metadata": {},
   "outputs": [
    {
     "data": {
      "image/png": "[encoded data removed]",
      "text/plain": [
       "<Figure size 432x288 with 1 Axes>"
      ]
     },
     "metadata": {},
     "output_type": "display_data"
    }
   ],
   "source": [
    "plt.hist(results, bins=9, range=(0,9), align='left')\n",
    "plt.xlabel('Correctly guessed cards')\n",
    "plt.ylabel('Number of guesses')\n",
    "plt.title(f'A plot of {iterations} guesses');"
   ]
  },
  {
   "cell_type": "code",
   "execution_count": 87,
   "metadata": {},
   "outputs": [
    {
     "data": {
      "text/html": [
       "<table>\n",
       "<tbody>\n",
       "<tr><td>Cards Drawn</td><td>Number</td><td>Percentage</td></tr>\n",
       "<tr><td>0          </td><td>0     </td><td>0.00%     </td></tr>\n",
       "<tr><td>1          </td><td>215   </td><td>2.15%     </td></tr>\n",
       "<tr><td>2          </td><td>835   </td><td>8.35%     </td></tr>\n",
       "<tr><td>3          </td><td>1791  </td><td>17.91%    </td></tr>\n",
       "<tr><td>4          </td><td>2356  </td><td>23.56%    </td></tr>\n",
       "<tr><td>5          </td><td>2152  </td><td>21.52%    </td></tr>\n",
       "<tr><td>6          </td><td>1405  </td><td>14.05%    </td></tr>\n",
       "<tr><td>7          </td><td>726   </td><td>7.26%     </td></tr>\n",
       "<tr><td>8          </td><td>325   </td><td>3.25%     </td></tr>\n",
       "</tbody>\n",
       "</table>"
      ],
      "text/plain": [
       "<IPython.core.display.HTML object>"
      ]
     },
     "metadata": {},
     "output_type": "display_data"
    }
   ],
   "source": [
    "results_table=[[i, results.count(i), f'{(100 * (results.count(i)/iterations)):.2f}%'] for i in range(9)]\n",
    "results_table.insert(0,['Cards Drawn','Number','Percentage'])\n",
    "display(HTML(tabulate.tabulate(results_table, tablefmt='html')))"
   ]
  },
  {
   "cell_type": "code",
   "execution_count": 88,
   "metadata": {},
   "outputs": [
    {
     "data": {
      "text/plain": [
       "4.5377"
      ]
     },
     "execution_count": 88,
     "metadata": {},
     "output_type": "execute_result"
    }
   ],
   "source": [
    "np.mean(results)"
   ]
  },
  {
   "cell_type": "markdown",
   "metadata": {},
   "source": [
    "## Imperfect Card Counting Guesser\n",
    "The previous version remembers the house cards perfectly.  Adding a degree of forgetfulness to this will make it somewhat more realistic.  The controlling variable is called 'remembering', and is scaled from 0 > 1"
   ]
  },
  {
   "cell_type": "code",
   "execution_count": 92,
   "metadata": {},
   "outputs": [],
   "source": [
    "current_deck = deck\n",
    "results = []\n",
    "iterations = 10000\n",
    "remembering = 0.25\n",
    "for i in range(iterations):\n",
    "    positives = 0\n",
    "    negatives = 0\n",
    "    current_deck = shuffle(current_deck)\n",
    "    guessed_already = []\n",
    "    for card in range(len(deck)):\n",
    "        guess = choice(suits) + choice(cards)\n",
    "        while guess in guessed_already:\n",
    "            guess = choice(suits) + choice(cards)\n",
    "        if guess == current_deck[card]:\n",
    "            positives += 1\n",
    "        else:\n",
    "            negatives += 1\n",
    "        if random.random() < remembering:\n",
    "            guessed_already.append(current_deck[card])\n",
    "    current_result = positives\n",
    "    results.append(current_result)"
   ]
  },
  {
   "cell_type": "code",
   "execution_count": 93,
   "metadata": {},
   "outputs": [
    {
     "data": {
      "image/png": "[encoded data removed]",
      "text/plain": [
       "<Figure size 432x288 with 1 Axes>"
      ]
     },
     "metadata": {},
     "output_type": "display_data"
    }
   ],
   "source": [
    "plt.hist(results, bins=9, range=(0,9), align='left')\n",
    "plt.xlabel('Correctly guessed cards')\n",
    "plt.ylabel('Number of guesses')\n",
    "plt.title(f'A plot of {iterations} guesses with {remembering*100}% remembered');"
   ]
  },
  {
   "cell_type": "code",
   "execution_count": 95,
   "metadata": {},
   "outputs": [
    {
     "data": {
      "text/html": [
       "<table>\n",
       "<tbody>\n",
       "<tr><td>Cards Drawn</td><td>Number</td><td>Percentage</td></tr>\n",
       "<tr><td>0          </td><td>3081  </td><td>30.81%    </td></tr>\n",
       "<tr><td>1          </td><td>3633  </td><td>36.33%    </td></tr>\n",
       "<tr><td>2          </td><td>2129  </td><td>21.29%    </td></tr>\n",
       "<tr><td>3          </td><td>888   </td><td>8.88%     </td></tr>\n",
       "<tr><td>4          </td><td>216   </td><td>2.16%     </td></tr>\n",
       "<tr><td>5          </td><td>47    </td><td>0.47%     </td></tr>\n",
       "<tr><td>6          </td><td>6     </td><td>0.06%     </td></tr>\n",
       "<tr><td>7          </td><td>0     </td><td>0.00%     </td></tr>\n",
       "<tr><td>8          </td><td>0     </td><td>0.00%     </td></tr>\n",
       "</tbody>\n",
       "</table>"
      ],
      "text/plain": [
       "<IPython.core.display.HTML object>"
      ]
     },
     "metadata": {},
     "output_type": "display_data"
    }
   ],
   "source": [
    "results_table=[[i, results.count(i), f'{(100 * (results.count(i)/iterations)):.2f}%'] for i in range(9)]\n",
    "results_table.insert(0,['Cards Drawn','Number','Percentage'])\n",
    "display(HTML(tabulate.tabulate(results_table, tablefmt='html')))"
   ]
  },
  {
   "cell_type": "code",
   "execution_count": null,
   "metadata": {},
   "outputs": [],
   "source": []
  }
 ],
 "metadata": {
  "kernelspec": {
   "display_name": "Python 3",
   "language": "python",
   "name": "python3"
  },
  "language_info": {
   "codemirror_mode": {
    "name": "ipython",
    "version": 3
   },
   "file_extension": ".py",
   "mimetype": "text/x-python",
   "name": "python",
   "nbconvert_exporter": "python",
   "pygments_lexer": "ipython3",
   "version": "3.6.3"
  }
 },
 "nbformat": 4,
 "nbformat_minor": 1
}
